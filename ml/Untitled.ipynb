{
 "cells": [
  {
   "cell_type": "code",
   "execution_count": 44,
   "metadata": {},
   "outputs": [],
   "source": [
    "from sklearn.metrics import mean_squared_error, r2_score, mean_absolute_error\n",
    "import pandas as pd\n",
    "import numpy as np\n",
    "from pandas import concat\n",
    "from collections import Counter\n",
    "\n",
    "import xgboost\n",
    "import os\n",
    "import math\n",
    "\n",
    "import pandas as pd\n",
    "import numpy as np\n",
    "import matplotlib.pyplot as plt\n",
    "import random\n",
    "import pickle\n",
    "import logging\n",
    "import matplotlib.pyplot as plt\n",
    "import timeit\n",
    "\n",
    "NUMBER_OF_TREES = 50\n",
    "WINDOW_SIZE = 5\n",
    "\n",
    "TARGET_COLUMN = 'flow_size'\n",
    "\n",
    "def calculate_scaling(training_paths): #### returns max value in each column\n",
    "    scaling = {}\n",
    "    #calculate scaling factors\n",
    "    for f in training_paths:\n",
    "        df = pd.read_csv(f, index_col=False)\n",
    "\n",
    "        for column in df.columns:\n",
    "            if column not in scaling:\n",
    "               scaling[column] = 0.\n",
    "            scaling[column] = max(scaling[column], float(df[column].max()))\n",
    "    return scaling\n",
    "\n",
    "def resize(s,scaling):\n",
    "    return s/scaling[s.name]\n",
    "\n",
    "def prepare_files(files, window_size, scaling, target_column='flow_size'):\n",
    "    result = []\n",
    "\n",
    "    for f in files:\n",
    "        df = pd.read_csv(f, index_col=False)\n",
    "        cols_to_drop = \n",
    "        df = df.drop(\"index\", axis=1)\n",
    "        flow_size = df[target_column].to_numpy()\n",
    "        thresh = 1e6\n",
    "        flow_size = np.where(flow_size>=thresh, 1, -1)\n",
    "        counter = Counter(flow_size)\n",
    "\n",
    "        df = df.apply((lambda x: resize(x, scaling)), axis=0)\n",
    "        df[target_column] = flow_size\n",
    "        columns = list(df)\n",
    "        \n",
    "        df[target_column] = flow_size\n",
    "        \n",
    "        #extend the window\n",
    "        columns = list(df)\n",
    "        final_df = df.copy()\n",
    "        for sample_num in range(1, window_size): ### doing the time series (but why?? - data for previous k flows?)\n",
    "            shifted = df.shift(sample_num)\n",
    "            shifted.columns = map(lambda x: x+str(sample_num), shifted.columns)\n",
    "            final_df = concat([shifted, final_df], axis=1)\n",
    "\n",
    "        final_df = final_df.fillna(0)\n",
    "        final_df = final_df.drop(target_column, axis=1)\n",
    "\n",
    "        result.append((final_df, flow_size))\n",
    "    return result\n",
    "        \n",
    "\n",
    "def make_io(data):\n",
    "    inputs = None\n",
    "    outputs = None\n",
    "    for d in data:\n",
    "        i_data = d[0].to_numpy()\n",
    "        o_data = d[1].tolist()\n",
    "\n",
    "        if inputs is None:\n",
    "            inputs = i_data\n",
    "            outputs = o_data\n",
    "        else:\n",
    "            inputs = np.append(inputs, i_data, axis=0)\n",
    "            outputs = np.append(outputs, o_data)\n",
    "    return (inputs, outputs)\n"
   ]
  },
  {
   "cell_type": "code",
   "execution_count": 49,
   "metadata": {},
   "outputs": [],
   "source": [
    "random.seed(0)\n",
    "\n",
    "# TRAINING_PATH = 'data/ml/' + TEST_NAME + '/training/'\n",
    "# TEST_PATH = 'data/ml/' + TEST_NAME + '/test/'\n",
    "# VALIDATION_PATH = 'data/ml/' + TEST_NAME + '/validation/'\n",
    "# MODEL_SAVE_PATH = 'model/xgboost/model_' + TEST_NAME + '.pkl'\n",
    "# # LOG_PATH = 'model/xgboost/log_' + TEST_NAME + '.log'\n",
    "# PLOT_PATH = 'results/xgboost/' + TEST_NAME\n",
    "\n",
    "# # logging.basicConfig(level=logging.DEBUG)\n",
    "# # file_handler = logging.FileHandler(LOG_PATH)\n",
    "\n",
    "# training_files = [os.path.join(TRAINING_PATH, f) for f in os.listdir(TRAINING_PATH)]\n",
    "# test_files = [os.path.join(TEST_PATH, f) for f in os.listdir(TEST_PATH)]\n",
    "# validation_files = [os.path.join(VALIDATION_PATH, f) for f in os.listdir(VALIDATION_PATH)]\n",
    "\n",
    "# scaling = xgboost_util.calculate_scaling(training_files)\n",
    "# data = xgboost_util.prepare_files(training_files, WINDOW_SIZE, scaling, TARGET_COLUMN)\n",
    "\n",
    "# inputs, outputs = xgboost_util.make_io(data)\n",
    "\n",
    "TRAINING_PATH = 'C:/D-drive-18921/College/Cloud Computing/flux/data/ml/KMeans/training/'\n",
    "TEST_PATH = 'C:/D-drive-18921/College/Cloud Computing/flux/data/ml/KMeans/test/'\n",
    "VALIDATION_PATH = 'C:/D-drive-18921/College/Cloud Computing/flux/data/ml/KMeans/validation/'\n",
    "\n",
    "training_files = [os.path.join(TRAINING_PATH, f) for f in os.listdir(TRAINING_PATH)]\n",
    "validation_files = [os.path.join(VALIDATION_PATH, f) for f in os.listdir(VALIDATION_PATH)]\n",
    "\n",
    "scaling = calculate_scaling(training_files)\n",
    "\n",
    "data = prepare_files(training_files, WINDOW_SIZE, scaling, TARGET_COLUMN)\n",
    "inputs, outputs = make_io(data)\n",
    "counter = Counter(outputs)\n"
   ]
  },
  {
   "cell_type": "code",
   "execution_count": 52,
   "metadata": {},
   "outputs": [
    {
     "name": "stdout",
     "output_type": "stream",
     "text": [
      "0.02401697944593387\n"
     ]
    }
   ],
   "source": [
    "estimate = counter[-1]/counter[1]\n",
    "print(estimate)\n",
    "##A sensible default value to set for the scale_pos_weight hyperparameter is the inverse of the class distribution."
   ]
  },
  {
   "cell_type": "code",
   "execution_count": 60,
   "metadata": {},
   "outputs": [],
   "source": [
    "validation_files = [os.path.join(VALIDATION_PATH, f) for f in os.listdir(VALIDATION_PATH)]\n",
    "test_files = [os.path.join(TEST_PATH, f) for f in os.listdir(TEST_PATH)]\n",
    "# # fit model no training data\n",
    "# param = {\n",
    "#     'num_epochs': NUMBER_OF_TREES,\n",
    "#     'max_depth': 10,\n",
    "#     'objective': 'reg:linear',\n",
    "#     'booster': 'gbtree',\n",
    "#     'base_score': 2,\n",
    "#     'silent': 1,\n",
    "#     'eval_metric': 'mae'\n",
    "# }\n",
    "\n",
    "# training = xgboost.DMatrix(inputs, outputs, feature_names=data[0][0].columns)\n",
    "# print(len(outputs))\n",
    "# print('Training started')\n",
    "# model = xgboost.train(param, training, param['num_epochs'])\n",
    "# pickle.dump(model, open(MODEL_SAVE_PATH, \"wb\"))\n",
    "\n",
    "data_val = prepare_files(validation_files, WINDOW_SIZE, scaling, TARGET_COLUMN)\n",
    "inputs_val, outputs_val = make_io(data_val)\n",
    "\n",
    "data_test = prepare_files(test_files, WINDOW_SIZE, scaling, TARGET_COLUMN)\n",
    "inputs_test, outputs_test = make_io(data_test)\n"
   ]
  },
  {
   "cell_type": "code",
   "execution_count": 87,
   "metadata": {},
   "outputs": [
    {
     "data": {
      "text/plain": [
       "74"
      ]
     },
     "execution_count": 87,
     "metadata": {},
     "output_type": "execute_result"
    }
   ],
   "source": [
    "len(data[0][0].columns)"
   ]
  },
  {
   "cell_type": "markdown",
   "metadata": {},
   "source": [
    "## Random Forest"
   ]
  },
  {
   "cell_type": "code",
   "execution_count": 79,
   "metadata": {},
   "outputs": [],
   "source": [
    "from sklearn.ensemble import RandomForestClassifier\n",
    "from sklearn.metrics import classification_report,confusion_matrix, accuracy_score\n",
    "rf = RandomForestClassifier(n_estimators=50, class_weight='balanced')\n",
    "rf = rf.fit(inputs, outputs)\n"
   ]
  },
  {
   "cell_type": "code",
   "execution_count": 88,
   "metadata": {},
   "outputs": [
    {
     "data": {
      "text/html": [
       "<div>\n",
       "<style scoped>\n",
       "    .dataframe tbody tr th:only-of-type {\n",
       "        vertical-align: middle;\n",
       "    }\n",
       "\n",
       "    .dataframe tbody tr th {\n",
       "        vertical-align: top;\n",
       "    }\n",
       "\n",
       "    .dataframe thead th {\n",
       "        text-align: right;\n",
       "    }\n",
       "</style>\n",
       "<table border=\"1\" class=\"dataframe\">\n",
       "  <thead>\n",
       "    <tr style=\"text-align: right;\">\n",
       "      <th></th>\n",
       "      <th>importance</th>\n",
       "    </tr>\n",
       "  </thead>\n",
       "  <tbody>\n",
       "    <tr>\n",
       "      <th>tcp_queue1</th>\n",
       "      <td>0.154422</td>\n",
       "    </tr>\n",
       "    <tr>\n",
       "      <th>first_call</th>\n",
       "      <td>0.134352</td>\n",
       "    </tr>\n",
       "    <tr>\n",
       "      <th>machine1</th>\n",
       "      <td>0.131018</td>\n",
       "    </tr>\n",
       "    <tr>\n",
       "      <th>agg_net_in_per_machine1</th>\n",
       "      <td>0.079981</td>\n",
       "    </tr>\n",
       "    <tr>\n",
       "      <th>agg_net_out</th>\n",
       "      <td>0.054948</td>\n",
       "    </tr>\n",
       "    <tr>\n",
       "      <th>...</th>\n",
       "      <td>...</td>\n",
       "    </tr>\n",
       "    <tr>\n",
       "      <th>ram4</th>\n",
       "      <td>0.000425</td>\n",
       "    </tr>\n",
       "    <tr>\n",
       "      <th>machine4</th>\n",
       "      <td>0.000328</td>\n",
       "    </tr>\n",
       "    <tr>\n",
       "      <th>flow_size4</th>\n",
       "      <td>0.000280</td>\n",
       "    </tr>\n",
       "    <tr>\n",
       "      <th>flow_size2</th>\n",
       "      <td>0.000104</td>\n",
       "    </tr>\n",
       "    <tr>\n",
       "      <th>flow_size3</th>\n",
       "      <td>0.000004</td>\n",
       "    </tr>\n",
       "  </tbody>\n",
       "</table>\n",
       "<p>74 rows × 1 columns</p>\n",
       "</div>"
      ],
      "text/plain": [
       "                         importance\n",
       "tcp_queue1                 0.154422\n",
       "first_call                 0.134352\n",
       "machine1                   0.131018\n",
       "agg_net_in_per_machine1    0.079981\n",
       "agg_net_out                0.054948\n",
       "...                             ...\n",
       "ram4                       0.000425\n",
       "machine4                   0.000328\n",
       "flow_size4                 0.000280\n",
       "flow_size2                 0.000104\n",
       "flow_size3                 0.000004\n",
       "\n",
       "[74 rows x 1 columns]"
      ]
     },
     "execution_count": 88,
     "metadata": {},
     "output_type": "execute_result"
    }
   ],
   "source": [
    "feature_importances = pd.DataFrame(rf.feature_importances_,\n",
    "                                   index = data[0][0].columns,\n",
    "                                    columns=['importance']).sort_values('importance', ascending=False)\n",
    "feature_importances"
   ]
  },
  {
   "cell_type": "code",
   "execution_count": 80,
   "metadata": {},
   "outputs": [],
   "source": [
    "predictions = rf.predict(inputs_val)\n",
    "predictions2 = rf.predict(inputs_test)"
   ]
  },
  {
   "cell_type": "code",
   "execution_count": 81,
   "metadata": {},
   "outputs": [
    {
     "name": "stdout",
     "output_type": "stream",
     "text": [
      "0.99631277813096\n"
     ]
    },
    {
     "data": {
      "image/png": "[encoded data removed]",
      "text/plain": [
       "<Figure size 432x288 with 2 Axes>"
      ]
     },
     "metadata": {},
     "output_type": "display_data"
    }
   ],
   "source": [
    "import seaborn as sn\n",
    "import pandas as pd\n",
    "import matplotlib.pyplot as plt\n",
    "\n",
    "df_cm = confusion_matrix(outputs_test,predictions2)\n",
    "print(accuracy_score(outputs_test,predictions2))\n",
    "group_names = ['True Neg','False Pos','False Neg','True Pos']\n",
    "group_counts = [\"{0:0.0f}\".format(value) for value in\n",
    "                df_cm.flatten()]\n",
    "group_percentages = [\"{0:.2%}\".format(value) for value in\n",
    "                     df_cm.flatten()/np.sum(df_cm)]\n",
    "labels = [f\"{v1}\\n{v2}\\n{v3}\" for v1, v2, v3 in\n",
    "          zip(group_names,group_counts,group_percentages)]\n",
    "labels = np.asarray(labels).reshape(2,2)\n",
    "# sn.set(font_scale=1.4) # for label size\n",
    "sn.heatmap(df_cm, annot=labels, fmt='', cmap='Blues')\n",
    "\n",
    "plt.show()"
   ]
  },
  {
   "cell_type": "markdown",
   "metadata": {},
   "source": [
    "## MLP Classifier"
   ]
  },
  {
   "cell_type": "code",
   "execution_count": 76,
   "metadata": {},
   "outputs": [
    {
     "name": "stdout",
     "output_type": "stream",
     "text": [
      "0.9956770502225047\n"
     ]
    },
    {
     "data": {
      "image/png": "[encoded data removed]",
      "text/plain": [
       "<Figure size 432x288 with 2 Axes>"
      ]
     },
     "metadata": {},
     "output_type": "display_data"
    }
   ],
   "source": [
    "from sklearn.neural_network import MLPClassifier\n",
    "mlp = MLPClassifier(hidden_layer_sizes=(5, 5), activation='relu')#, alpha=0.0001)\n",
    "mlp.fit(inputs, outputs)\n",
    "mlp_predictions = mlp.predict(inputs_test)\n",
    "acc_mlp = accuracy_score(outputs_test, mlp_predictions)\n",
    "print(acc_mlp)\n",
    "cm_mlp = confusion_matrix(outputs_test, mlp_predictions)\n",
    "\n",
    "group_names = ['True Neg','False Pos','False Neg','True Pos']\n",
    "group_counts = [\"{0:0.0f}\".format(value) for value in\n",
    "                cm_mlp.flatten()]\n",
    "group_percentages = [\"{0:.2%}\".format(value) for value in\n",
    "                     cm_mlp.flatten()/np.sum(cm_mlp)]\n",
    "labels = [f\"{v1}\\n{v2}\\n{v3}\" for v1, v2, v3 in\n",
    "          zip(group_names,group_counts,group_percentages)]\n",
    "labels = np.asarray(labels).reshape(2,2)\n",
    "sn.heatmap(cm_mlp, annot=labels, fmt='', cmap='Blues')\n",
    "plt.show()"
   ]
  },
  {
   "cell_type": "code",
   "execution_count": null,
   "metadata": {},
   "outputs": [],
   "source": []
  }
 ],
 "metadata": {
  "kernelspec": {
   "display_name": "Python 3",
   "language": "python",
   "name": "python3"
  },
  "language_info": {
   "codemirror_mode": {
    "name": "ipython",
    "version": 3
   },
   "file_extension": ".py",
   "mimetype": "text/x-python",
   "name": "python",
   "nbconvert_exporter": "python",
   "pygments_lexer": "ipython3",
   "version": "3.7.6"
  }
 },
 "nbformat": 4,
 "nbformat_minor": 4
}
